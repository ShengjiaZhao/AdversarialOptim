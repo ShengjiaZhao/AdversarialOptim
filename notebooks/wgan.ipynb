{
 "cells": [
  {
   "cell_type": "code",
   "execution_count": null,
   "metadata": {
    "collapsed": true
   },
   "outputs": [],
   "source": [
    "import sys\n",
    "from matplotlib import pyplot as plt\n",
    "sys.path.append('../')\n",
    "from dataset import *\n",
    "from abstract_network import *\n",
    "import time\n",
    "from models import *\n",
    "import os\n",
    "os.environ['CUDA_VISIBLE_DEVICES'] = '1'"
   ]
  },
  {
   "cell_type": "code",
   "execution_count": null,
   "metadata": {
    "collapsed": true
   },
   "outputs": [],
   "source": [
    "dataset = MnistDataset(binary=False, one_hot=True)\n",
    "x = tf.placeholder(tf.float32, [None] + dataset.data_dims)\n",
    "c = tf.placeholder(tf.float32, [None, 10])\n",
    "\n",
    "c_ = classifier(x, 10)\n",
    "d = tf.nn.sigmoid(discriminator_cond(x, c))\n",
    "d_ = tf.nn.sigmoid(discriminator_cond(x, c_, reuse=True))\n",
    "\n",
    "# Gradient penalty\n",
    "epsilon = tf.random_uniform([], 0.0, 1.0)\n",
    "c_hat = epsilon * c + (1 - epsilon) * c_\n",
    "d_hat = tf.nn.sigmoid(discriminator_cond(x, c_hat, reuse=True))\n",
    "\n",
    "ddc = tf.gradients(d_hat, c_hat)[0]\n",
    "ddc = tf.sqrt(tf.reduce_sum(tf.square(ddc), axis=1))\n",
    "d_grad_loss = tf.reduce_mean(tf.square(ddc - 1.0) * 1.0)\n",
    "\n",
    "d_confusion = tf.reduce_mean(d_) - tf.reduce_mean(d)\n",
    "d_loss = d_confusion + d_grad_loss\n",
    "g_loss = -tf.reduce_mean(d_)"
   ]
  },
  {
   "cell_type": "code",
   "execution_count": null,
   "metadata": {
    "collapsed": true
   },
   "outputs": [],
   "source": [
    "optimal_c = tf.get_variable(shape=(100, 10), name='optimal_c')\n",
    "optimal_c_init = tf.\n",
    "optimal_c_class = tf.sigmoid(optimal_c)\n",
    "d_oc = tf.nn.sigmoid(discriminator_cond(x, optimal_c_class, reuse=True))\n",
    "d_oc_loss = -tf.reduce_mean(d_oc)\n",
    "input_train = tf.train.GradientDescentOptimizer(learning_rate=1e-2).minimize(d_oc_loss, var_list=optimal_c)"
   ]
  },
  {
   "cell_type": "code",
   "execution_count": null,
   "metadata": {
    "collapsed": true
   },
   "outputs": [],
   "source": [
    "d_vars = [var for var in tf.global_variables() if 'dc_net' in var.name]\n",
    "g_vars = [var for var in tf.global_variables() if 'c_net' in var.name]\n",
    "d_train = tf.train.GradientDescentOptimizer(learning_rate=5e-3).minimize(d_loss, var_list=d_vars)\n",
    "g_train = tf.train.GradientDescentOptimizer(learning_rate=1e-4).minimize(g_loss, var_list=g_vars)"
   ]
  },
  {
   "cell_type": "code",
   "execution_count": null,
   "metadata": {
    "collapsed": true
   },
   "outputs": [],
   "source": [
    "correct_prediction = tf.equal(tf.argmax(c_, 1), tf.argmax(c, 1))\n",
    "accuracy = tf.reduce_mean(tf.cast(correct_prediction, tf.float32))\n",
    "\n",
    "dc_ = tf.gradients(d_, c_)[0]\n",
    "dc = tf.gradients(d, c)[0]"
   ]
  },
  {
   "cell_type": "code",
   "execution_count": null,
   "metadata": {
    "collapsed": true
   },
   "outputs": [],
   "source": [
    "sess = tf.Session(config=tf.ConfigProto(gpu_options=tf.GPUOptions(allow_growth=True)))\n",
    "sess.run(tf.global_variables_initializer())"
   ]
  },
  {
   "cell_type": "code",
   "execution_count": null,
   "metadata": {
    "collapsed": true
   },
   "outputs": [],
   "source": [
    "def print_stats():\n",
    "    bx, bc = dataset.next_labeled_batch(500)\n",
    "    vals = sess.run([g_loss, d_loss, d_confusion, accuracy, d_grad_loss], feed_dict={x: bx, c: bc})\n",
    "    print(\"g_loss=%6.2f, d_loss=%6.2f, d_confusion=%6.2f, accuracy=%6.2f, grad_loss=%6.2f\" % tuple(vals))\n",
    "print_stats()"
   ]
  },
  {
   "cell_type": "code",
   "execution_count": null,
   "metadata": {
    "collapsed": true
   },
   "outputs": [],
   "source": [
    "def sample_train(size=128):\n",
    "    bx, bc = dataset.next_labeled_batch(size)\n",
    "    bc = label_noise(bc)\n",
    "    return bx, bc\n",
    "\n",
    "def sample_test(size=128):\n",
    "    bx, bc = dataset.next_labeled_test_batch(size)\n",
    "    bc = label_noise(bc)\n",
    "    return bx, bc"
   ]
  },
  {
   "cell_type": "code",
   "execution_count": null,
   "metadata": {
    "collapsed": true
   },
   "outputs": [],
   "source": [
    "for idx in range(1, 10001):\n",
    "    bx, bc = sample_train(128)\n",
    "    sess.run([d_train, g_train], feed_dict={x: bx, c: bc})\n",
    "    if idx % 500 == 0:\n",
    "        print_stats()\n",
    "        make_plots()"
   ]
  },
  {
   "cell_type": "code",
   "execution_count": null,
   "metadata": {
    "collapsed": true
   },
   "outputs": [],
   "source": [
    "for idx in range(1000):\n",
    "    bx, bc = sample_train(128)\n",
    "    # for i in range(10):\n",
    "    sess.run(d_train, feed_dict={x: bx, c: bc})\n",
    "    sess.run(g_train, feed_dict={x: bx, c: bc})\n",
    "    if idx % 100 == 0:\n",
    "        print_stats()"
   ]
  },
  {
   "cell_type": "code",
   "execution_count": null,
   "metadata": {
    "collapsed": true
   },
   "outputs": [],
   "source": [
    "def make_plots():\n",
    "    dc_val, dc_val_, bc_ = sess.run([dc, dc_, c_], feed_dict={x: tbx, c: tbc})\n",
    "    plot_args = {'interpolation':'none', 'cmap':'Greys'}\n",
    "    plt.figure(figsize=(10, 10))\n",
    "    plt.subplot(1, 4, 1)\n",
    "    plt.imshow(dc_val[:20], **plot_args)\n",
    "    plt.subplot(1, 4, 2)\n",
    "    plt.imshow(dc_val_[:20],**plot_args)\n",
    "    plt.subplot(1, 4, 3)\n",
    "    plt.imshow(bc_[:20],**plot_args)\n",
    "    plt.subplot(1, 4, 4)\n",
    "    plt.imshow(tbc[:20],**plot_args)\n",
    "    plt.show()"
   ]
  },
  {
   "cell_type": "code",
   "execution_count": null,
   "metadata": {
    "collapsed": true
   },
   "outputs": [],
   "source": [
    "tbx, tbc = sample_train(128)"
   ]
  },
  {
   "cell_type": "code",
   "execution_count": null,
   "metadata": {
    "collapsed": true
   },
   "outputs": [],
   "source": []
  }
 ],
 "metadata": {
  "kernelspec": {
   "display_name": "Python 3",
   "language": "python",
   "name": "python3"
  },
  "language_info": {
   "codemirror_mode": {
    "name": "ipython",
    "version": 3
   },
   "file_extension": ".py",
   "mimetype": "text/x-python",
   "name": "python",
   "nbconvert_exporter": "python",
   "pygments_lexer": "ipython3",
   "version": "3.5.2"
  }
 },
 "nbformat": 4,
 "nbformat_minor": 2
}
